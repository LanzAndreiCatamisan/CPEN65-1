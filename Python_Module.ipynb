{
  "nbformat": 4,
  "nbformat_minor": 0,
  "metadata": {
    "colab": {
      "provenance": [],
      "authorship_tag": "ABX9TyOr6zhiJEacrcgbOUyWX8Hk",
      "include_colab_link": true
    },
    "kernelspec": {
      "name": "python3",
      "display_name": "Python 3"
    },
    "language_info": {
      "name": "python"
    }
  },
  "cells": [
    {
      "cell_type": "markdown",
      "metadata": {
        "id": "view-in-github",
        "colab_type": "text"
      },
      "source": [
        "<a href=\"https://colab.research.google.com/github/LanzAndreiCatamisan/CPEN65-1/blob/main/Python_Module.ipynb\" target=\"_parent\"><img src=\"https://colab.research.google.com/assets/colab-badge.svg\" alt=\"Open In Colab\"/></a>"
      ]
    },
    {
      "cell_type": "markdown",
      "source": [
        "Array Module in Python"
      ],
      "metadata": {
        "id": "7_ax6ejtN405"
      }
    },
    {
      "cell_type": "code",
      "execution_count": 5,
      "metadata": {
        "colab": {
          "base_uri": "https://localhost:8080/"
        },
        "id": "P6jOtnAzN3UQ",
        "outputId": "3e6deda9-a824-4d65-9581-d577007be313"
      },
      "outputs": [
        {
          "output_type": "stream",
          "name": "stdout",
          "text": [
            "i\n",
            "f\n"
          ]
        }
      ],
      "source": [
        "# getting typecodes\n",
        "import array as arr\n",
        "arr.typecodes\n",
        "a = arr.array('i',[1,2,3,4,5])\n",
        "print(a.typecode)\n",
        "b= arr.array('f',[1.5,2.5,3.5,4.5,5.5])\n",
        "print(b.typecode)"
      ]
    },
    {
      "cell_type": "code",
      "source": [
        "#what are the output of these codes?\n",
        "import array as arr\n",
        "a = arr.array('i',[4,5,6,7]) \n",
        "print(a)\n",
        "\n",
        "c = a.insert(1,2)\n",
        "print(a)\n",
        "a.insert(-1,0)\n",
        "print(a)\n",
        "a.insert(6,8)\n",
        "print(a)"
      ],
      "metadata": {
        "colab": {
          "base_uri": "https://localhost:8080/"
        },
        "id": "d5ACq68yPmxJ",
        "outputId": "c50bbb62-0ddb-44ea-c59e-d1f89b3836cc"
      },
      "execution_count": 9,
      "outputs": [
        {
          "output_type": "stream",
          "name": "stdout",
          "text": [
            "array('i', [4, 5, 6, 7])\n",
            "array('i', [4, 2, 5, 6, 7])\n",
            "array('i', [4, 2, 5, 6, 0, 7])\n",
            "array('i', [4, 2, 5, 6, 0, 7, 8])\n"
          ]
        }
      ]
    },
    {
      "cell_type": "markdown",
      "source": [
        "Linked List"
      ],
      "metadata": {
        "id": "8PS5cdwAVFf4"
      }
    },
    {
      "cell_type": "code",
      "source": [
        "#Python program to create a singly linked of vowel in English\n",
        "\n",
        "#Node Class\n",
        "\n",
        "class Node:\n",
        "  #function to initialize the node object\n",
        "  def __init__(self, data):\n",
        "    self.data = data #assign data\n",
        "    self.next = None #initialize as null/empty\n",
        "\n",
        "#Linked List that contains node object\n",
        "\n",
        "class LinkedList:\n",
        "  def __init__(self):\n",
        "    self.head = None\n",
        "\n",
        "  def printlist(self):\n",
        "    temp = self.head\n",
        "    while(temp):\n",
        "      print(temp.data)\n",
        "      temp=temp.next\n",
        "#code execution starting from empty list\n",
        "llist = LinkedList()\n",
        "llist.head = Node('a')\n",
        "second = Node('e')\n",
        "third = Node('i')\n",
        "fourth = Node('o')\n",
        "fifth = Node('u')\n",
        "\n",
        "llist.head.next = second\n",
        "second.next = third\n",
        "third.next = fourth\n",
        "fourth.next = fifth\n",
        "\n",
        "llist.printlist()"
      ],
      "metadata": {
        "colab": {
          "base_uri": "https://localhost:8080/"
        },
        "id": "0p_Gx7cPVJKc",
        "outputId": "9caef54e-a6e3-42cf-a059-0b44d304847b"
      },
      "execution_count": 17,
      "outputs": [
        {
          "output_type": "stream",
          "name": "stdout",
          "text": [
            "a\n",
            "e\n",
            "i\n",
            "o\n",
            "u\n"
          ]
        }
      ]
    }
  ]
}