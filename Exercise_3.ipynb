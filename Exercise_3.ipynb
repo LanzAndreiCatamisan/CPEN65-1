{
  "nbformat": 4,
  "nbformat_minor": 0,
  "metadata": {
    "colab": {
      "provenance": [],
      "authorship_tag": "ABX9TyNLR+6AU1PWD0OIS5UEVlDv",
      "include_colab_link": true
    },
    "kernelspec": {
      "name": "python3",
      "display_name": "Python 3"
    },
    "language_info": {
      "name": "python"
    }
  },
  "cells": [
    {
      "cell_type": "markdown",
      "metadata": {
        "id": "view-in-github",
        "colab_type": "text"
      },
      "source": [
        "<a href=\"https://colab.research.google.com/github/LanzAndreiCatamisan/CPEN65-1/blob/main/Exercise_3.ipynb\" target=\"_parent\"><img src=\"https://colab.research.google.com/assets/colab-badge.svg\" alt=\"Open In Colab\"/></a>"
      ]
    },
    {
      "cell_type": "markdown",
      "source": [
        "## **Exercise on Array**"
      ],
      "metadata": {
        "id": "BIxkMSP2tv1V"
      }
    },
    {
      "cell_type": "code",
      "source": [
        "#This program only displays the characters in reverse\n",
        "fullname = input(\"Enter your full name:\")\n",
        "revfullname = list(fullname)\n",
        "revfullname.reverse()\n",
        "print(\"Your full name in reverse order of character:\", ''.join(revfullname))"
      ],
      "metadata": {
        "colab": {
          "base_uri": "https://localhost:8080/"
        },
        "id": "AjPZnYpLpy5n",
        "outputId": "cbaab93c-bec9-417b-b18d-af7ca72e0167"
      },
      "execution_count": 21,
      "outputs": [
        {
          "output_type": "stream",
          "name": "stdout",
          "text": [
            "Enter your full name:Lanz Andrei A Catamisan\n",
            "Your full name in reverse order of character: nasimataC A ierdnA znaL\n"
          ]
        }
      ]
    },
    {
      "cell_type": "code",
      "source": [
        "#This program also displays the elements of the array and its reverse form \n",
        "fullname = input(\"Enter your full name:\")\n",
        "revfullname = list(fullname)\n",
        "print(\"Array:\", revfullname)\n",
        "revfullname.reverse()\n",
        "print(\"Reversed Array:\", revfullname)\n",
        "print(\"Your full name in reverse order of character:\", ''.join(revfullname))"
      ],
      "metadata": {
        "colab": {
          "base_uri": "https://localhost:8080/"
        },
        "id": "clq4c7wluOPa",
        "outputId": "3e5ec951-886a-450c-93ff-82298d7cf0c4"
      },
      "execution_count": 22,
      "outputs": [
        {
          "output_type": "stream",
          "name": "stdout",
          "text": [
            "Enter your full name:Lanz Andrei A Catamisan\n",
            "Array: ['L', 'a', 'n', 'z', ' ', 'A', 'n', 'd', 'r', 'e', 'i', ' ', 'A', ' ', 'C', 'a', 't', 'a', 'm', 'i', 's', 'a', 'n']\n",
            "Reversed Array: ['n', 'a', 's', 'i', 'm', 'a', 't', 'a', 'C', ' ', 'A', ' ', 'i', 'e', 'r', 'd', 'n', 'A', ' ', 'z', 'n', 'a', 'L']\n",
            "Your full name in reverse order of character: nasimataC A ierdnA znaL\n"
          ]
        }
      ]
    }
  ]
}